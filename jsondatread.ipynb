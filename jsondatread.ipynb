{
 "cells": [
  {
   "cell_type": "code",
   "execution_count": 4,
   "metadata": {},
   "outputs": [
    {
     "name": "stdout",
     "output_type": "stream",
     "text": [
      "{'person': {'name': 'John', 'age': 30, 'contacts': [{'type': 'email', 'value': 'john@example.com'}, {'type': 'phone', 'value': '123-456-7890'}]}, 'books': [{'title': 'Python Programming', 'authors': ['Alice', 'Bob'], 'price': 25.99}, {'title': 'JavaScript Basics', 'authors': ['Charlie'], 'price': 19.95}]}\n"
     ]
    }
   ],
   "source": [
    "import json\n",
    "with open('fact.json', 'r+') as frd:\n",
    "    # print(frd.read())\n",
    "#     filecontent = frd.read()\n",
    "    jsonload = json.load(frd)\n",
    "    print(jsonload)"
   ]
  },
  {
   "cell_type": "code",
   "execution_count": null,
   "metadata": {},
   "outputs": [],
   "source": [
    "# print(filecontent)\n",
    "# if we want to dump any object in json format just use --> json.dumps(x)  --> x is any object.\n",
    "\n"
   ]
  },
  {
   "cell_type": "code",
   "execution_count": null,
   "metadata": {},
   "outputs": [],
   "source": []
  }
 ],
 "metadata": {
  "kernelspec": {
   "display_name": "Python 3 (ipykernel)",
   "language": "python",
   "name": "python3"
  },
  "language_info": {
   "codemirror_mode": {
    "name": "ipython",
    "version": 3
   },
   "file_extension": ".py",
   "mimetype": "text/x-python",
   "name": "python",
   "nbconvert_exporter": "python",
   "pygments_lexer": "ipython3",
   "version": "3.10.7"
  }
 },
 "nbformat": 4,
 "nbformat_minor": 2
}
